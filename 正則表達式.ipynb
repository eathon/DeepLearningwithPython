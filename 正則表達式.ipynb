{
  "nbformat": 4,
  "nbformat_minor": 0,
  "metadata": {
    "colab": {
      "name": "正則表達式.ipynb",
      "version": "0.3.2",
      "provenance": [],
      "include_colab_link": true
    },
    "kernelspec": {
      "name": "python2",
      "display_name": "Python 2"
    }
  },
  "cells": [
    {
      "cell_type": "markdown",
      "metadata": {
        "id": "view-in-github",
        "colab_type": "text"
      },
      "source": [
        "<a href=\"https://colab.research.google.com/github/eathon/DeepLearningwithPython/blob/master/%E6%AD%A3%E5%89%87%E8%A1%A8%E9%81%94%E5%BC%8F.ipynb\" target=\"_parent\"><img src=\"https://colab.research.google.com/assets/colab-badge.svg\" alt=\"Open In Colab\"/></a>"
      ]
    },
    {
      "metadata": {
        "id": "-e8KREF0LT65",
        "colab_type": "code",
        "colab": {
          "base_uri": "https://localhost:8080/",
          "height": 34
        },
        "outputId": "6149fb2c-18a6-4f65-b0ae-2a21f81dcd15"
      },
      "cell_type": "code",
      "source": [
        "import re\n",
        "\n",
        "pattern = re.compile(r'hello.*\\!')\n",
        "\n",
        "match = pattern.match('hello, hanxiaoyang!how are you?')\n",
        "\n",
        "if match: \n",
        "   print match.group()"
      ],
      "execution_count": 1,
      "outputs": [
        {
          "output_type": "stream",
          "text": [
            "hello, hanxiaoyang!\n"
          ],
          "name": "stdout"
        }
      ]
    }
  ]
}